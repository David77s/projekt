{
 "cells": [
  {
   "cell_type": "code",
   "execution_count": 94,
   "metadata": {
    "collapsed": true
   },
   "outputs": [],
   "source": [
    "import numpy as np\n",
    "import pandas as pd"
   ]
  },
  {
   "cell_type": "code",
   "execution_count": 95,
   "outputs": [],
   "source": [
    "df_car= pd.read_csv('../pliki/car_prices.csv')"
   ],
   "metadata": {
    "collapsed": false
   }
  },
  {
   "cell_type": "markdown",
   "source": [
    "### Przygotowanie danych do analizy"
   ],
   "metadata": {
    "collapsed": false
   }
  },
  {
   "cell_type": "markdown",
   "source": [
    "Wyświetlenie bazy danych csv"
   ],
   "metadata": {
    "collapsed": false
   }
  },
  {
   "cell_type": "code",
   "execution_count": 96,
   "outputs": [
    {
     "data": {
      "text/plain": "        Unnamed: 0   mark  model    generation_name  year  mileage  \\\n0                0   opel  combo         gen-d-2011  2015   139568   \n1                1   opel  combo         gen-d-2011  2018    31991   \n2                2   opel  combo         gen-d-2011  2015   278437   \n3                3   opel  combo         gen-d-2011  2016    47600   \n4                4   opel  combo         gen-d-2011  2014   103000   \n...            ...    ...    ...                ...   ...      ...   \n117922      117922  volvo  xc-90  gen-ii-2014-xc-90  2020    40000   \n117923      117923  volvo  xc-90  gen-ii-2014-xc-90  2017    51000   \n117924      117924  volvo  xc-90  gen-ii-2014-xc-90  2016    83500   \n117925      117925  volvo  xc-90  gen-ii-2014-xc-90  2017   174000   \n117926      117926  volvo  xc-90  gen-ii-2014-xc-90  2016   189020   \n\n        vol_engine      fuel              city       province   price  \n0             1248    Diesel             Janki    Mazowieckie   35900  \n1             1499    Diesel          Katowice        Śląskie   78501  \n2             1598    Diesel             Brzeg       Opolskie   27000  \n3             1248    Diesel         Korfantów       Opolskie   30800  \n4             1400       CNG   Tarnowskie Góry        Śląskie   35900  \n...            ...       ...               ...            ...     ...  \n117922        1969    Hybrid          Katowice        Śląskie  222790  \n117923        1969    Diesel  Chechło Pierwsze        Łódzkie  229900  \n117924        1969  Gasoline   Pruszcz Gdański      Pomorskie  135000  \n117925        1969    Diesel            Kalisz  Wielkopolskie  154500  \n117926        1969  Gasoline            Sionna    Mazowieckie  130000  \n\n[117927 rows x 11 columns]",
      "text/html": "<div>\n<style scoped>\n    .dataframe tbody tr th:only-of-type {\n        vertical-align: middle;\n    }\n\n    .dataframe tbody tr th {\n        vertical-align: top;\n    }\n\n    .dataframe thead th {\n        text-align: right;\n    }\n</style>\n<table border=\"1\" class=\"dataframe\">\n  <thead>\n    <tr style=\"text-align: right;\">\n      <th></th>\n      <th>Unnamed: 0</th>\n      <th>mark</th>\n      <th>model</th>\n      <th>generation_name</th>\n      <th>year</th>\n      <th>mileage</th>\n      <th>vol_engine</th>\n      <th>fuel</th>\n      <th>city</th>\n      <th>province</th>\n      <th>price</th>\n    </tr>\n  </thead>\n  <tbody>\n    <tr>\n      <th>0</th>\n      <td>0</td>\n      <td>opel</td>\n      <td>combo</td>\n      <td>gen-d-2011</td>\n      <td>2015</td>\n      <td>139568</td>\n      <td>1248</td>\n      <td>Diesel</td>\n      <td>Janki</td>\n      <td>Mazowieckie</td>\n      <td>35900</td>\n    </tr>\n    <tr>\n      <th>1</th>\n      <td>1</td>\n      <td>opel</td>\n      <td>combo</td>\n      <td>gen-d-2011</td>\n      <td>2018</td>\n      <td>31991</td>\n      <td>1499</td>\n      <td>Diesel</td>\n      <td>Katowice</td>\n      <td>Śląskie</td>\n      <td>78501</td>\n    </tr>\n    <tr>\n      <th>2</th>\n      <td>2</td>\n      <td>opel</td>\n      <td>combo</td>\n      <td>gen-d-2011</td>\n      <td>2015</td>\n      <td>278437</td>\n      <td>1598</td>\n      <td>Diesel</td>\n      <td>Brzeg</td>\n      <td>Opolskie</td>\n      <td>27000</td>\n    </tr>\n    <tr>\n      <th>3</th>\n      <td>3</td>\n      <td>opel</td>\n      <td>combo</td>\n      <td>gen-d-2011</td>\n      <td>2016</td>\n      <td>47600</td>\n      <td>1248</td>\n      <td>Diesel</td>\n      <td>Korfantów</td>\n      <td>Opolskie</td>\n      <td>30800</td>\n    </tr>\n    <tr>\n      <th>4</th>\n      <td>4</td>\n      <td>opel</td>\n      <td>combo</td>\n      <td>gen-d-2011</td>\n      <td>2014</td>\n      <td>103000</td>\n      <td>1400</td>\n      <td>CNG</td>\n      <td>Tarnowskie Góry</td>\n      <td>Śląskie</td>\n      <td>35900</td>\n    </tr>\n    <tr>\n      <th>...</th>\n      <td>...</td>\n      <td>...</td>\n      <td>...</td>\n      <td>...</td>\n      <td>...</td>\n      <td>...</td>\n      <td>...</td>\n      <td>...</td>\n      <td>...</td>\n      <td>...</td>\n      <td>...</td>\n    </tr>\n    <tr>\n      <th>117922</th>\n      <td>117922</td>\n      <td>volvo</td>\n      <td>xc-90</td>\n      <td>gen-ii-2014-xc-90</td>\n      <td>2020</td>\n      <td>40000</td>\n      <td>1969</td>\n      <td>Hybrid</td>\n      <td>Katowice</td>\n      <td>Śląskie</td>\n      <td>222790</td>\n    </tr>\n    <tr>\n      <th>117923</th>\n      <td>117923</td>\n      <td>volvo</td>\n      <td>xc-90</td>\n      <td>gen-ii-2014-xc-90</td>\n      <td>2017</td>\n      <td>51000</td>\n      <td>1969</td>\n      <td>Diesel</td>\n      <td>Chechło Pierwsze</td>\n      <td>Łódzkie</td>\n      <td>229900</td>\n    </tr>\n    <tr>\n      <th>117924</th>\n      <td>117924</td>\n      <td>volvo</td>\n      <td>xc-90</td>\n      <td>gen-ii-2014-xc-90</td>\n      <td>2016</td>\n      <td>83500</td>\n      <td>1969</td>\n      <td>Gasoline</td>\n      <td>Pruszcz Gdański</td>\n      <td>Pomorskie</td>\n      <td>135000</td>\n    </tr>\n    <tr>\n      <th>117925</th>\n      <td>117925</td>\n      <td>volvo</td>\n      <td>xc-90</td>\n      <td>gen-ii-2014-xc-90</td>\n      <td>2017</td>\n      <td>174000</td>\n      <td>1969</td>\n      <td>Diesel</td>\n      <td>Kalisz</td>\n      <td>Wielkopolskie</td>\n      <td>154500</td>\n    </tr>\n    <tr>\n      <th>117926</th>\n      <td>117926</td>\n      <td>volvo</td>\n      <td>xc-90</td>\n      <td>gen-ii-2014-xc-90</td>\n      <td>2016</td>\n      <td>189020</td>\n      <td>1969</td>\n      <td>Gasoline</td>\n      <td>Sionna</td>\n      <td>Mazowieckie</td>\n      <td>130000</td>\n    </tr>\n  </tbody>\n</table>\n<p>117927 rows × 11 columns</p>\n</div>"
     },
     "execution_count": 96,
     "metadata": {},
     "output_type": "execute_result"
    }
   ],
   "source": [
    "df_car"
   ],
   "metadata": {
    "collapsed": false
   }
  },
  {
   "cell_type": "markdown",
   "source": [
    "Usunięcie niepotrzebnej, nieopisanej kolumny \"Unnamed: 0\""
   ],
   "metadata": {
    "collapsed": false
   }
  },
  {
   "cell_type": "code",
   "execution_count": 97,
   "outputs": [],
   "source": [
    "df_car = df_car.drop('Unnamed: 0',axis=1)"
   ],
   "metadata": {
    "collapsed": false
   }
  },
  {
   "cell_type": "code",
   "execution_count": 98,
   "outputs": [
    {
     "data": {
      "text/plain": "         mark  model    generation_name  year  mileage  vol_engine      fuel  \\\n0        opel  combo         gen-d-2011  2015   139568        1248    Diesel   \n1        opel  combo         gen-d-2011  2018    31991        1499    Diesel   \n2        opel  combo         gen-d-2011  2015   278437        1598    Diesel   \n3        opel  combo         gen-d-2011  2016    47600        1248    Diesel   \n4        opel  combo         gen-d-2011  2014   103000        1400       CNG   \n...       ...    ...                ...   ...      ...         ...       ...   \n117922  volvo  xc-90  gen-ii-2014-xc-90  2020    40000        1969    Hybrid   \n117923  volvo  xc-90  gen-ii-2014-xc-90  2017    51000        1969    Diesel   \n117924  volvo  xc-90  gen-ii-2014-xc-90  2016    83500        1969  Gasoline   \n117925  volvo  xc-90  gen-ii-2014-xc-90  2017   174000        1969    Diesel   \n117926  volvo  xc-90  gen-ii-2014-xc-90  2016   189020        1969  Gasoline   \n\n                    city       province   price  \n0                  Janki    Mazowieckie   35900  \n1               Katowice        Śląskie   78501  \n2                  Brzeg       Opolskie   27000  \n3              Korfantów       Opolskie   30800  \n4        Tarnowskie Góry        Śląskie   35900  \n...                  ...            ...     ...  \n117922          Katowice        Śląskie  222790  \n117923  Chechło Pierwsze        Łódzkie  229900  \n117924   Pruszcz Gdański      Pomorskie  135000  \n117925            Kalisz  Wielkopolskie  154500  \n117926            Sionna    Mazowieckie  130000  \n\n[117927 rows x 10 columns]",
      "text/html": "<div>\n<style scoped>\n    .dataframe tbody tr th:only-of-type {\n        vertical-align: middle;\n    }\n\n    .dataframe tbody tr th {\n        vertical-align: top;\n    }\n\n    .dataframe thead th {\n        text-align: right;\n    }\n</style>\n<table border=\"1\" class=\"dataframe\">\n  <thead>\n    <tr style=\"text-align: right;\">\n      <th></th>\n      <th>mark</th>\n      <th>model</th>\n      <th>generation_name</th>\n      <th>year</th>\n      <th>mileage</th>\n      <th>vol_engine</th>\n      <th>fuel</th>\n      <th>city</th>\n      <th>province</th>\n      <th>price</th>\n    </tr>\n  </thead>\n  <tbody>\n    <tr>\n      <th>0</th>\n      <td>opel</td>\n      <td>combo</td>\n      <td>gen-d-2011</td>\n      <td>2015</td>\n      <td>139568</td>\n      <td>1248</td>\n      <td>Diesel</td>\n      <td>Janki</td>\n      <td>Mazowieckie</td>\n      <td>35900</td>\n    </tr>\n    <tr>\n      <th>1</th>\n      <td>opel</td>\n      <td>combo</td>\n      <td>gen-d-2011</td>\n      <td>2018</td>\n      <td>31991</td>\n      <td>1499</td>\n      <td>Diesel</td>\n      <td>Katowice</td>\n      <td>Śląskie</td>\n      <td>78501</td>\n    </tr>\n    <tr>\n      <th>2</th>\n      <td>opel</td>\n      <td>combo</td>\n      <td>gen-d-2011</td>\n      <td>2015</td>\n      <td>278437</td>\n      <td>1598</td>\n      <td>Diesel</td>\n      <td>Brzeg</td>\n      <td>Opolskie</td>\n      <td>27000</td>\n    </tr>\n    <tr>\n      <th>3</th>\n      <td>opel</td>\n      <td>combo</td>\n      <td>gen-d-2011</td>\n      <td>2016</td>\n      <td>47600</td>\n      <td>1248</td>\n      <td>Diesel</td>\n      <td>Korfantów</td>\n      <td>Opolskie</td>\n      <td>30800</td>\n    </tr>\n    <tr>\n      <th>4</th>\n      <td>opel</td>\n      <td>combo</td>\n      <td>gen-d-2011</td>\n      <td>2014</td>\n      <td>103000</td>\n      <td>1400</td>\n      <td>CNG</td>\n      <td>Tarnowskie Góry</td>\n      <td>Śląskie</td>\n      <td>35900</td>\n    </tr>\n    <tr>\n      <th>...</th>\n      <td>...</td>\n      <td>...</td>\n      <td>...</td>\n      <td>...</td>\n      <td>...</td>\n      <td>...</td>\n      <td>...</td>\n      <td>...</td>\n      <td>...</td>\n      <td>...</td>\n    </tr>\n    <tr>\n      <th>117922</th>\n      <td>volvo</td>\n      <td>xc-90</td>\n      <td>gen-ii-2014-xc-90</td>\n      <td>2020</td>\n      <td>40000</td>\n      <td>1969</td>\n      <td>Hybrid</td>\n      <td>Katowice</td>\n      <td>Śląskie</td>\n      <td>222790</td>\n    </tr>\n    <tr>\n      <th>117923</th>\n      <td>volvo</td>\n      <td>xc-90</td>\n      <td>gen-ii-2014-xc-90</td>\n      <td>2017</td>\n      <td>51000</td>\n      <td>1969</td>\n      <td>Diesel</td>\n      <td>Chechło Pierwsze</td>\n      <td>Łódzkie</td>\n      <td>229900</td>\n    </tr>\n    <tr>\n      <th>117924</th>\n      <td>volvo</td>\n      <td>xc-90</td>\n      <td>gen-ii-2014-xc-90</td>\n      <td>2016</td>\n      <td>83500</td>\n      <td>1969</td>\n      <td>Gasoline</td>\n      <td>Pruszcz Gdański</td>\n      <td>Pomorskie</td>\n      <td>135000</td>\n    </tr>\n    <tr>\n      <th>117925</th>\n      <td>volvo</td>\n      <td>xc-90</td>\n      <td>gen-ii-2014-xc-90</td>\n      <td>2017</td>\n      <td>174000</td>\n      <td>1969</td>\n      <td>Diesel</td>\n      <td>Kalisz</td>\n      <td>Wielkopolskie</td>\n      <td>154500</td>\n    </tr>\n    <tr>\n      <th>117926</th>\n      <td>volvo</td>\n      <td>xc-90</td>\n      <td>gen-ii-2014-xc-90</td>\n      <td>2016</td>\n      <td>189020</td>\n      <td>1969</td>\n      <td>Gasoline</td>\n      <td>Sionna</td>\n      <td>Mazowieckie</td>\n      <td>130000</td>\n    </tr>\n  </tbody>\n</table>\n<p>117927 rows × 10 columns</p>\n</div>"
     },
     "execution_count": 98,
     "metadata": {},
     "output_type": "execute_result"
    }
   ],
   "source": [
    "df_car"
   ],
   "metadata": {
    "collapsed": false
   }
  },
  {
   "cell_type": "markdown",
   "source": [
    "Informacje o kolumnach w naszej bazie danych"
   ],
   "metadata": {
    "collapsed": false
   }
  },
  {
   "cell_type": "code",
   "execution_count": 99,
   "outputs": [
    {
     "name": "stdout",
     "output_type": "stream",
     "text": [
      "<class 'pandas.core.frame.DataFrame'>\n",
      "RangeIndex: 117927 entries, 0 to 117926\n",
      "Data columns (total 10 columns):\n",
      " #   Column           Non-Null Count   Dtype \n",
      "---  ------           --------------   ----- \n",
      " 0   mark             117927 non-null  object\n",
      " 1   model            117927 non-null  object\n",
      " 2   generation_name  87842 non-null   object\n",
      " 3   year             117927 non-null  int64 \n",
      " 4   mileage          117927 non-null  int64 \n",
      " 5   vol_engine       117927 non-null  int64 \n",
      " 6   fuel             117927 non-null  object\n",
      " 7   city             117927 non-null  object\n",
      " 8   province         117927 non-null  object\n",
      " 9   price            117927 non-null  int64 \n",
      "dtypes: int64(4), object(6)\n",
      "memory usage: 9.0+ MB\n"
     ]
    }
   ],
   "source": [
    "df_car.info()"
   ],
   "metadata": {
    "collapsed": false
   }
  },
  {
   "cell_type": "markdown",
   "source": [
    "Ilość pustych wierszy w danej kolumnie"
   ],
   "metadata": {
    "collapsed": false
   }
  },
  {
   "cell_type": "code",
   "execution_count": 100,
   "outputs": [
    {
     "data": {
      "text/plain": "mark                   0\nmodel                  0\ngeneration_name    30085\nyear                   0\nmileage                0\nvol_engine             0\nfuel                   0\ncity                   0\nprovince               0\nprice                  0\ndtype: int64"
     },
     "execution_count": 100,
     "metadata": {},
     "output_type": "execute_result"
    }
   ],
   "source": [
    "df_car.isna().sum()"
   ],
   "metadata": {
    "collapsed": false
   }
  },
  {
   "cell_type": "markdown",
   "source": [
    "Wyłączenie notacji naukowej, ustawienie ilości wyświetlanych miejsc po przecinku"
   ],
   "metadata": {
    "collapsed": false
   }
  },
  {
   "cell_type": "code",
   "execution_count": 101,
   "outputs": [],
   "source": [
    "pd.set_option('display.float_format', lambda x: '%.3f' % x)"
   ],
   "metadata": {
    "collapsed": false
   }
  },
  {
   "cell_type": "markdown",
   "source": [
    "### Analiza danych"
   ],
   "metadata": {
    "collapsed": false
   }
  },
  {
   "cell_type": "markdown",
   "source": [
    "Podstawowe statystyki dla kolumn numerycznych"
   ],
   "metadata": {
    "collapsed": false
   }
  },
  {
   "cell_type": "code",
   "execution_count": 102,
   "outputs": [
    {
     "data": {
      "text/plain": "            year     mileage  vol_engine       price\ncount 117927.000  117927.000  117927.000  117927.000\nmean    2012.925  140976.786    1812.058   70299.885\nstd        5.690   92369.357     643.613   84824.578\nmin     1945.000       0.000       0.000     500.000\n25%     2009.000   67000.000    1461.000   21000.000\n50%     2013.000  146269.000    1796.000   41900.000\n75%     2018.000  203000.000    1995.000   83600.000\nmax     2022.000 2800000.000    7600.000 2399900.000",
      "text/html": "<div>\n<style scoped>\n    .dataframe tbody tr th:only-of-type {\n        vertical-align: middle;\n    }\n\n    .dataframe tbody tr th {\n        vertical-align: top;\n    }\n\n    .dataframe thead th {\n        text-align: right;\n    }\n</style>\n<table border=\"1\" class=\"dataframe\">\n  <thead>\n    <tr style=\"text-align: right;\">\n      <th></th>\n      <th>year</th>\n      <th>mileage</th>\n      <th>vol_engine</th>\n      <th>price</th>\n    </tr>\n  </thead>\n  <tbody>\n    <tr>\n      <th>count</th>\n      <td>117927.000</td>\n      <td>117927.000</td>\n      <td>117927.000</td>\n      <td>117927.000</td>\n    </tr>\n    <tr>\n      <th>mean</th>\n      <td>2012.925</td>\n      <td>140976.786</td>\n      <td>1812.058</td>\n      <td>70299.885</td>\n    </tr>\n    <tr>\n      <th>std</th>\n      <td>5.690</td>\n      <td>92369.357</td>\n      <td>643.613</td>\n      <td>84824.578</td>\n    </tr>\n    <tr>\n      <th>min</th>\n      <td>1945.000</td>\n      <td>0.000</td>\n      <td>0.000</td>\n      <td>500.000</td>\n    </tr>\n    <tr>\n      <th>25%</th>\n      <td>2009.000</td>\n      <td>67000.000</td>\n      <td>1461.000</td>\n      <td>21000.000</td>\n    </tr>\n    <tr>\n      <th>50%</th>\n      <td>2013.000</td>\n      <td>146269.000</td>\n      <td>1796.000</td>\n      <td>41900.000</td>\n    </tr>\n    <tr>\n      <th>75%</th>\n      <td>2018.000</td>\n      <td>203000.000</td>\n      <td>1995.000</td>\n      <td>83600.000</td>\n    </tr>\n    <tr>\n      <th>max</th>\n      <td>2022.000</td>\n      <td>2800000.000</td>\n      <td>7600.000</td>\n      <td>2399900.000</td>\n    </tr>\n  </tbody>\n</table>\n</div>"
     },
     "execution_count": 102,
     "metadata": {},
     "output_type": "execute_result"
    }
   ],
   "source": [
    "df_car.describe()"
   ],
   "metadata": {
    "collapsed": false
   }
  },
  {
   "cell_type": "markdown",
   "source": [
    "Podstawowe statystyki dla kolumn tekstowych"
   ],
   "metadata": {
    "collapsed": false
   }
  },
  {
   "cell_type": "code",
   "execution_count": 103,
   "outputs": [
    {
     "data": {
      "text/plain": "          mark   model   generation_name      fuel      city     province\ncount   117927  117927             87842    117927    117927       117927\nunique      23     328               364         6      4427           23\ntop       audi   astra  gen-8p-2003-2012  Gasoline  Warszawa  Mazowieckie\nfreq     12031    3331              1567     61597      7972        22219",
      "text/html": "<div>\n<style scoped>\n    .dataframe tbody tr th:only-of-type {\n        vertical-align: middle;\n    }\n\n    .dataframe tbody tr th {\n        vertical-align: top;\n    }\n\n    .dataframe thead th {\n        text-align: right;\n    }\n</style>\n<table border=\"1\" class=\"dataframe\">\n  <thead>\n    <tr style=\"text-align: right;\">\n      <th></th>\n      <th>mark</th>\n      <th>model</th>\n      <th>generation_name</th>\n      <th>fuel</th>\n      <th>city</th>\n      <th>province</th>\n    </tr>\n  </thead>\n  <tbody>\n    <tr>\n      <th>count</th>\n      <td>117927</td>\n      <td>117927</td>\n      <td>87842</td>\n      <td>117927</td>\n      <td>117927</td>\n      <td>117927</td>\n    </tr>\n    <tr>\n      <th>unique</th>\n      <td>23</td>\n      <td>328</td>\n      <td>364</td>\n      <td>6</td>\n      <td>4427</td>\n      <td>23</td>\n    </tr>\n    <tr>\n      <th>top</th>\n      <td>audi</td>\n      <td>astra</td>\n      <td>gen-8p-2003-2012</td>\n      <td>Gasoline</td>\n      <td>Warszawa</td>\n      <td>Mazowieckie</td>\n    </tr>\n    <tr>\n      <th>freq</th>\n      <td>12031</td>\n      <td>3331</td>\n      <td>1567</td>\n      <td>61597</td>\n      <td>7972</td>\n      <td>22219</td>\n    </tr>\n  </tbody>\n</table>\n</div>"
     },
     "execution_count": 103,
     "metadata": {},
     "output_type": "execute_result"
    }
   ],
   "source": [
    "df_car.describe(include='object')"
   ],
   "metadata": {
    "collapsed": false
   }
  },
  {
   "cell_type": "markdown",
   "source": [
    "Ilość ogłoszeń w zależności od marki samochodu"
   ],
   "metadata": {
    "collapsed": false
   }
  },
  {
   "cell_type": "code",
   "execution_count": 104,
   "outputs": [
    {
     "data": {
      "text/plain": "mark\naudi             12031\nopel             11914\nbmw              11070\nvolkswagen       10848\nford              9664\nmercedes-benz     7136\nrenault           6976\nskoda             5888\ntoyota            5120\npeugeot           5056\nvolvo             4384\nhyundai           4032\nkia               3744\nnissan            3072\nfiat              2880\nmazda             2848\nseat              2848\ncitroen           2720\nhonda             2176\nmitsubishi        1120\nmini              1088\nalfa-romeo         704\nchevrolet          608\nName: count, dtype: int64"
     },
     "execution_count": 104,
     "metadata": {},
     "output_type": "execute_result"
    }
   ],
   "source": [
    "df_car['mark'].value_counts()"
   ],
   "metadata": {
    "collapsed": false
   }
  },
  {
   "cell_type": "markdown",
   "source": [
    "Ilość ogłoszeń ze względu na rodzaj paliwa"
   ],
   "metadata": {
    "collapsed": false
   }
  },
  {
   "cell_type": "code",
   "execution_count": 105,
   "outputs": [
    {
     "data": {
      "text/plain": "fuel\nGasoline    61597\nDiesel      48476\nLPG          4301\nHybrid       2621\nElectric      885\nCNG            47\nName: count, dtype: int64"
     },
     "execution_count": 105,
     "metadata": {},
     "output_type": "execute_result"
    }
   ],
   "source": [
    "df_car['fuel'].value_counts()"
   ],
   "metadata": {
    "collapsed": false
   }
  },
  {
   "cell_type": "markdown",
   "source": [
    "Ilość ogłoszeń ze wzgędu na region geograficzny"
   ],
   "metadata": {
    "collapsed": false
   }
  },
  {
   "cell_type": "code",
   "execution_count": 106,
   "outputs": [
    {
     "data": {
      "text/plain": "province\nMazowieckie                 22219\nŚląskie                     16706\nWielkopolskie               14016\nMałopolskie                  9756\nDolnośląskie                 8838\nŁódzkie                      7884\nPomorskie                    7605\nKujawsko-pomorskie           5371\nLubelskie                    4740\nZachodniopomorskie           3963\nPodkarpackie                 3553\nŚwiętokrzyskie               3337\nWarmińsko-mazurskie          2956\nLubuskie                     2743\nPodlaskie                    2123\nOpolskie                     2073\nMoravian-Silesian Region       35\nBerlin                          3\nWiedeń                          2\nNiedersachsen                   1\n(                               1\nTrenczyn                        1\nNordrhein-Westfalen             1\nName: count, dtype: int64"
     },
     "execution_count": 106,
     "metadata": {},
     "output_type": "execute_result"
    }
   ],
   "source": [
    "df_car['province'].value_counts()"
   ],
   "metadata": {
    "collapsed": false
   }
  },
  {
   "cell_type": "markdown",
   "source": [
    "Ilość ogłoszeń dla samochodów wyprodukowanych przed rokiem 2000"
   ],
   "metadata": {
    "collapsed": false
   }
  },
  {
   "cell_type": "code",
   "execution_count": 107,
   "outputs": [
    {
     "data": {
      "text/plain": "12050"
     },
     "execution_count": 107,
     "metadata": {},
     "output_type": "execute_result"
    }
   ],
   "source": [
    "df_car[df_car['year'] < 2000].size"
   ],
   "metadata": {
    "collapsed": false
   }
  },
  {
   "cell_type": "markdown",
   "source": [
    "Ilość ogłoszeń dla samochodów wyprodukowanych przed rokiem 1970"
   ],
   "metadata": {
    "collapsed": false
   }
  },
  {
   "cell_type": "code",
   "execution_count": 108,
   "outputs": [
    {
     "data": {
      "text/plain": "250"
     },
     "execution_count": 108,
     "metadata": {},
     "output_type": "execute_result"
    }
   ],
   "source": [
    "df_car[df_car['year'] < 1970].size"
   ],
   "metadata": {
    "collapsed": false
   }
  },
  {
   "cell_type": "markdown",
   "source": [
    "Ilość ogłoszeń dla samochodów, których cena wynosiła milion złotych lub więcej"
   ],
   "metadata": {
    "collapsed": false
   }
  },
  {
   "cell_type": "code",
   "execution_count": 109,
   "outputs": [
    {
     "data": {
      "text/plain": "170"
     },
     "execution_count": 109,
     "metadata": {},
     "output_type": "execute_result"
    }
   ],
   "source": [
    "df_car[df_car['price'] >= 1000000].size"
   ],
   "metadata": {
    "collapsed": false
   }
  },
  {
   "cell_type": "markdown",
   "source": [
    "Ilość ogłoszeń, w których przebieg wynosił więcej niż 350000 km"
   ],
   "metadata": {
    "collapsed": false
   }
  },
  {
   "cell_type": "code",
   "execution_count": 110,
   "outputs": [
    {
     "data": {
      "text/plain": "14970"
     },
     "execution_count": 110,
     "metadata": {},
     "output_type": "execute_result"
    }
   ],
   "source": [
    "df_car[df_car['mileage'] > 350000].size"
   ],
   "metadata": {
    "collapsed": false
   }
  },
  {
   "cell_type": "markdown",
   "source": [
    "Ilość ogłoszeń dla samochodów o pojemności silnika większej niż 3000 cm3"
   ],
   "metadata": {
    "collapsed": false
   }
  },
  {
   "cell_type": "code",
   "execution_count": 111,
   "outputs": [
    {
     "data": {
      "text/plain": "32690"
     },
     "execution_count": 111,
     "metadata": {},
     "output_type": "execute_result"
    }
   ],
   "source": [
    "df_car[df_car['vol_engine']>3000].size"
   ],
   "metadata": {
    "collapsed": false
   }
  },
  {
   "cell_type": "markdown",
   "source": [
    "Ogłoszenia pochodzące z Krakowa dla samochodów z rocznika 2015 - 2020 włącznie"
   ],
   "metadata": {
    "collapsed": false
   }
  },
  {
   "cell_type": "code",
   "execution_count": 112,
   "outputs": [
    {
     "data": {
      "text/plain": "         mark  model    generation_name  year  mileage  vol_engine      fuel  \\\n28       opel  combo         gen-d-2011  2015   135000        1248    Diesel   \n60       opel  combo         gen-d-2011  2015   135000        1248    Diesel   \n268      opel   adam                NaN  2015   120480        1398  Gasoline   \n284      opel   adam                NaN  2015    57500        1398  Gasoline   \n1702     opel  astra    gen-j-2009-2015  2015    56207        1598  Gasoline   \n...       ...    ...                ...   ...      ...         ...       ...   \n117835  volvo  xc-90  gen-ii-2014-xc-90  2018   110000        1969  Gasoline   \n117865  volvo  xc-90  gen-ii-2014-xc-90  2019    40000        1969    Diesel   \n117867  volvo  xc-90  gen-ii-2014-xc-90  2018   110000        1969  Gasoline   \n117897  volvo  xc-90  gen-ii-2014-xc-90  2019    40000        1969    Diesel   \n117899  volvo  xc-90  gen-ii-2014-xc-90  2018   110000        1969  Gasoline   \n\n          city     province   price  \n28      Kraków  Małopolskie   39000  \n60      Kraków  Małopolskie   39000  \n268     Kraków  Małopolskie   49900  \n284     Kraków  Małopolskie   34900  \n1702    Kraków  Małopolskie   44000  \n...        ...          ...     ...  \n117835  Kraków  Małopolskie  239900  \n117865  Kraków  Małopolskie  295000  \n117867  Kraków  Małopolskie  239900  \n117897  Kraków  Małopolskie  295000  \n117899  Kraków  Małopolskie  239900  \n\n[1099 rows x 10 columns]",
      "text/html": "<div>\n<style scoped>\n    .dataframe tbody tr th:only-of-type {\n        vertical-align: middle;\n    }\n\n    .dataframe tbody tr th {\n        vertical-align: top;\n    }\n\n    .dataframe thead th {\n        text-align: right;\n    }\n</style>\n<table border=\"1\" class=\"dataframe\">\n  <thead>\n    <tr style=\"text-align: right;\">\n      <th></th>\n      <th>mark</th>\n      <th>model</th>\n      <th>generation_name</th>\n      <th>year</th>\n      <th>mileage</th>\n      <th>vol_engine</th>\n      <th>fuel</th>\n      <th>city</th>\n      <th>province</th>\n      <th>price</th>\n    </tr>\n  </thead>\n  <tbody>\n    <tr>\n      <th>28</th>\n      <td>opel</td>\n      <td>combo</td>\n      <td>gen-d-2011</td>\n      <td>2015</td>\n      <td>135000</td>\n      <td>1248</td>\n      <td>Diesel</td>\n      <td>Kraków</td>\n      <td>Małopolskie</td>\n      <td>39000</td>\n    </tr>\n    <tr>\n      <th>60</th>\n      <td>opel</td>\n      <td>combo</td>\n      <td>gen-d-2011</td>\n      <td>2015</td>\n      <td>135000</td>\n      <td>1248</td>\n      <td>Diesel</td>\n      <td>Kraków</td>\n      <td>Małopolskie</td>\n      <td>39000</td>\n    </tr>\n    <tr>\n      <th>268</th>\n      <td>opel</td>\n      <td>adam</td>\n      <td>NaN</td>\n      <td>2015</td>\n      <td>120480</td>\n      <td>1398</td>\n      <td>Gasoline</td>\n      <td>Kraków</td>\n      <td>Małopolskie</td>\n      <td>49900</td>\n    </tr>\n    <tr>\n      <th>284</th>\n      <td>opel</td>\n      <td>adam</td>\n      <td>NaN</td>\n      <td>2015</td>\n      <td>57500</td>\n      <td>1398</td>\n      <td>Gasoline</td>\n      <td>Kraków</td>\n      <td>Małopolskie</td>\n      <td>34900</td>\n    </tr>\n    <tr>\n      <th>1702</th>\n      <td>opel</td>\n      <td>astra</td>\n      <td>gen-j-2009-2015</td>\n      <td>2015</td>\n      <td>56207</td>\n      <td>1598</td>\n      <td>Gasoline</td>\n      <td>Kraków</td>\n      <td>Małopolskie</td>\n      <td>44000</td>\n    </tr>\n    <tr>\n      <th>...</th>\n      <td>...</td>\n      <td>...</td>\n      <td>...</td>\n      <td>...</td>\n      <td>...</td>\n      <td>...</td>\n      <td>...</td>\n      <td>...</td>\n      <td>...</td>\n      <td>...</td>\n    </tr>\n    <tr>\n      <th>117835</th>\n      <td>volvo</td>\n      <td>xc-90</td>\n      <td>gen-ii-2014-xc-90</td>\n      <td>2018</td>\n      <td>110000</td>\n      <td>1969</td>\n      <td>Gasoline</td>\n      <td>Kraków</td>\n      <td>Małopolskie</td>\n      <td>239900</td>\n    </tr>\n    <tr>\n      <th>117865</th>\n      <td>volvo</td>\n      <td>xc-90</td>\n      <td>gen-ii-2014-xc-90</td>\n      <td>2019</td>\n      <td>40000</td>\n      <td>1969</td>\n      <td>Diesel</td>\n      <td>Kraków</td>\n      <td>Małopolskie</td>\n      <td>295000</td>\n    </tr>\n    <tr>\n      <th>117867</th>\n      <td>volvo</td>\n      <td>xc-90</td>\n      <td>gen-ii-2014-xc-90</td>\n      <td>2018</td>\n      <td>110000</td>\n      <td>1969</td>\n      <td>Gasoline</td>\n      <td>Kraków</td>\n      <td>Małopolskie</td>\n      <td>239900</td>\n    </tr>\n    <tr>\n      <th>117897</th>\n      <td>volvo</td>\n      <td>xc-90</td>\n      <td>gen-ii-2014-xc-90</td>\n      <td>2019</td>\n      <td>40000</td>\n      <td>1969</td>\n      <td>Diesel</td>\n      <td>Kraków</td>\n      <td>Małopolskie</td>\n      <td>295000</td>\n    </tr>\n    <tr>\n      <th>117899</th>\n      <td>volvo</td>\n      <td>xc-90</td>\n      <td>gen-ii-2014-xc-90</td>\n      <td>2018</td>\n      <td>110000</td>\n      <td>1969</td>\n      <td>Gasoline</td>\n      <td>Kraków</td>\n      <td>Małopolskie</td>\n      <td>239900</td>\n    </tr>\n  </tbody>\n</table>\n<p>1099 rows × 10 columns</p>\n</div>"
     },
     "execution_count": 112,
     "metadata": {},
     "output_type": "execute_result"
    }
   ],
   "source": [
    "df_car[(df_car['city'] == 'Kraków') & (df_car['year'] >= 2015) & (df_car['year'] <= 2020)]"
   ],
   "metadata": {
    "collapsed": false
   }
  },
  {
   "cell_type": "markdown",
   "source": [
    "Ilość ogłoszeń pochodzących z Krakowa dla samochodów z rocznika 2015 - 2020 włącznie w zależności od rodzaju paliwa"
   ],
   "metadata": {
    "collapsed": false
   }
  },
  {
   "cell_type": "code",
   "execution_count": 113,
   "outputs": [
    {
     "data": {
      "text/plain": "fuel\nGasoline    594\nDiesel      441\nHybrid       33\nLPG          21\nElectric     10\nName: count, dtype: int64"
     },
     "execution_count": 113,
     "metadata": {},
     "output_type": "execute_result"
    }
   ],
   "source": [
    "df_car[(df_car['city'] == 'Kraków') & (df_car['year'] >= 2015)\n",
    "       & (df_car['year'] <= 2020)]['fuel'].value_counts()"
   ],
   "metadata": {
    "collapsed": false
   }
  },
  {
   "cell_type": "markdown",
   "source": [
    "Ilość ogłoszeń pochodzących z Krakowa dla samochodów z rocznika 2015 - 2020 włącznie w zależności od marki samochodu"
   ],
   "metadata": {
    "collapsed": false
   }
  },
  {
   "cell_type": "code",
   "execution_count": 114,
   "outputs": [
    {
     "data": {
      "text/plain": "mark\naudi             115\nford             115\nvolvo             95\nbmw               85\nmercedes-benz     81\nrenault           80\nopel              73\ntoyota            64\nskoda             64\nvolkswagen        60\nkia               36\npeugeot           34\nnissan            33\nmazda             32\nfiat              28\nhyundai           28\nseat              24\ncitroen           22\nhonda             11\nmini               8\nmitsubishi         5\nalfa-romeo         3\nchevrolet          3\nName: count, dtype: int64"
     },
     "execution_count": 114,
     "metadata": {},
     "output_type": "execute_result"
    }
   ],
   "source": [
    "df_car[(df_car['city'] == 'Kraków') & (df_car['year'] >= 2015)\n",
    "       & (df_car['year'] <= 2020)]['mark'].value_counts()"
   ],
   "metadata": {
    "collapsed": false
   }
  },
  {
   "cell_type": "markdown",
   "source": [
    "Średnia cena samochodów w daym regionie w kolejności od najdroższego"
   ],
   "metadata": {
    "collapsed": false
   }
  },
  {
   "cell_type": "code",
   "execution_count": 115,
   "outputs": [
    {
     "data": {
      "text/plain": "province\nNiedersachsen              115000.000\nMoravian-Silesian Region    95078.314\nPomorskie                   84231.164\nŚląskie                     81237.557\nŁódzkie                     75589.222\nMazowieckie                 74438.702\nOpolskie                    71481.954\nKujawsko-pomorskie          69324.851\nMałopolskie                 68430.776\nPodlaskie                   67980.044\nDolnośląskie                66654.488\nWielkopolskie               64643.911\n(                           62900.000\nLubuskie                    62375.653\nWarmińsko-mazurskie         62047.470\nZachodniopomorskie          59405.454\nPodkarpackie                56318.752\nŚwiętokrzyskie              56089.222\nLubelskie                   49406.903\nBerlin                      23332.667\nNordrhein-Westfalen         19900.000\nWiedeń                      13900.000\nTrenczyn                     8499.000\nName: price, dtype: float64"
     },
     "execution_count": 115,
     "metadata": {},
     "output_type": "execute_result"
    }
   ],
   "source": [
    "df_car.groupby('province')['price'].mean().sort_values(ascending=False)"
   ],
   "metadata": {
    "collapsed": false
   }
  },
  {
   "cell_type": "markdown",
   "source": [
    "Ilość ogłoszeń dla danej marki samochodu, której cena przekroczyła 100000 zł"
   ],
   "metadata": {
    "collapsed": false
   }
  },
  {
   "cell_type": "code",
   "execution_count": 116,
   "outputs": [
    {
     "data": {
      "text/plain": "mark\nalfa-romeo        172\naudi             4107\nbmw              4319\nchevrolet          48\ncitroen            94\nfiat              103\nford             1074\nhonda             268\nhyundai           343\nkia               528\nmazda             414\nmercedes-benz    3300\nmini              349\nmitsubishi         94\nnissan            223\nopel              337\npeugeot           580\nrenault           584\nseat              226\nskoda             988\ntoyota            549\nvolkswagen       2044\nvolvo            1895\ndtype: int64"
     },
     "execution_count": 116,
     "metadata": {},
     "output_type": "execute_result"
    }
   ],
   "source": [
    "df_car[df_car['price']>100000].groupby('mark').size()"
   ],
   "metadata": {
    "collapsed": false
   }
  },
  {
   "cell_type": "markdown",
   "source": [
    "Ilość ogłoszeń w małopolsce ze względu na markę samochodu"
   ],
   "metadata": {
    "collapsed": false
   }
  },
  {
   "cell_type": "code",
   "execution_count": 117,
   "outputs": [
    {
     "data": {
      "text/plain": "mark\nalfa-romeo        76\naudi             998\nbmw              957\nchevrolet         63\ncitroen          215\nfiat             365\nford             788\nhonda            184\nhyundai          275\nkia              332\nmazda            172\nmercedes-benz    522\nmini             131\nmitsubishi        72\nnissan           275\nopel             993\npeugeot          426\nrenault          579\nseat             303\nskoda            499\ntoyota           423\nvolkswagen       778\nvolvo            330\ndtype: int64"
     },
     "execution_count": 117,
     "metadata": {},
     "output_type": "execute_result"
    }
   ],
   "source": [
    "df_car[df_car['province']=='Małopolskie'].groupby('mark').size()"
   ],
   "metadata": {
    "collapsed": false
   }
  },
  {
   "cell_type": "markdown",
   "source": [
    "Miejscowości w małopolsce, z których pochodziły ogłoszenia oraz ich ilość"
   ],
   "metadata": {
    "collapsed": false
   }
  },
  {
   "cell_type": "code",
   "execution_count": 118,
   "outputs": [
    {
     "data": {
      "text/plain": "city\nAleksandrowice      1\nAlwernia           89\nAndrychów          28\nBabice              5\nBachowice          12\n                   ..\nŁężkowice           1\nŚmigno              1\nŚwiątniki Górne    15\nŻabno              25\nŻarki               4\nLength: 539, dtype: int64"
     },
     "execution_count": 118,
     "metadata": {},
     "output_type": "execute_result"
    }
   ],
   "source": [
    "df_car[df_car['province']=='Małopolskie'].groupby('city').size()"
   ],
   "metadata": {
    "collapsed": false
   }
  },
  {
   "cell_type": "markdown",
   "source": [
    "5 najczęściej pojawiających się samochodów w ogłoszeniach z województwa małopolskiego"
   ],
   "metadata": {
    "collapsed": false
   }
  },
  {
   "cell_type": "code",
   "execution_count": 119,
   "outputs": [
    {
     "data": {
      "text/plain": "mark  model    year\nfiat  tipo     2021    44\nopel  astra    2011    41\nbmw   seria-3  2021    39\naudi  a3       2009    35\nfiat  500      2021    35\ndtype: int64"
     },
     "execution_count": 119,
     "metadata": {},
     "output_type": "execute_result"
    }
   ],
   "source": [
    "df_car[df_car['province']=='Małopolskie'].groupby(['mark','model','year']).size()\\\n",
    "    .sort_values(ascending=False).head()"
   ],
   "metadata": {
    "collapsed": false
   }
  },
  {
   "cell_type": "markdown",
   "source": [
    "5 najczęściej pojawiających się samochodów w ogłoszeniach z województwa mazowieckiego"
   ],
   "metadata": {
    "collapsed": false
   }
  },
  {
   "cell_type": "code",
   "execution_count": 120,
   "outputs": [
    {
     "data": {
      "text/plain": "mark        model    year\nvolvo       xc-90    2018    98\nskoda       octavia  2018    79\nvolkswagen  passat   2017    76\nskoda       octavia  2017    70\nford        focus    2017    67\ndtype: int64"
     },
     "execution_count": 120,
     "metadata": {},
     "output_type": "execute_result"
    }
   ],
   "source": [
    "df_car[df_car['province']=='Mazowieckie'].groupby(['mark','model','year']).size()\\\n",
    "    .sort_values(ascending=False).head()"
   ],
   "metadata": {
    "collapsed": false
   }
  },
  {
   "cell_type": "markdown",
   "source": [
    "5 najczęściej pojawiających się samochodów w ogłoszeniach z województwa śląskiego"
   ],
   "metadata": {
    "collapsed": false
   }
  },
  {
   "cell_type": "code",
   "execution_count": 121,
   "outputs": [
    {
     "data": {
      "text/plain": "mark  model    year\nbmw   seria-5  2021    108\n      seria-3  2021     85\nfiat  tipo     2021     68\nopel  astra    2017     67\n               2011     58\ndtype: int64"
     },
     "execution_count": 121,
     "metadata": {},
     "output_type": "execute_result"
    }
   ],
   "source": [
    "df_car[df_car['province']=='Śląskie'].groupby(['mark','model','year']).size()\\\n",
    "    .sort_values(ascending=False).head()"
   ],
   "metadata": {
    "collapsed": false
   }
  },
  {
   "cell_type": "code",
   "execution_count": 121,
   "outputs": [],
   "source": [],
   "metadata": {
    "collapsed": false
   }
  }
 ],
 "metadata": {
  "kernelspec": {
   "display_name": "Python 3",
   "language": "python",
   "name": "python3"
  },
  "language_info": {
   "codemirror_mode": {
    "name": "ipython",
    "version": 2
   },
   "file_extension": ".py",
   "mimetype": "text/x-python",
   "name": "python",
   "nbconvert_exporter": "python",
   "pygments_lexer": "ipython2",
   "version": "2.7.6"
  }
 },
 "nbformat": 4,
 "nbformat_minor": 0
}
